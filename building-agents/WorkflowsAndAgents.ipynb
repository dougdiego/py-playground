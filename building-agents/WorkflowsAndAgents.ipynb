{
 "cells": [
  {
   "cell_type": "code",
   "execution_count": 1,
   "metadata": {},
   "outputs": [
    {
     "name": "stdout",
     "output_type": "stream",
     "text": [
      "Requirement already satisfied: langchain_core in /Users/ddiego/Developer/github/dougdiego/py-playground/chroma-langchain-demo/venv/lib/python3.12/site-packages (0.1.52)\n",
      "Collecting langchain-anthropic\n",
      "  Downloading langchain_anthropic-0.3.8-py3-none-any.whl.metadata (1.9 kB)\n",
      "Collecting langgraph\n",
      "  Downloading langgraph-0.2.75-py3-none-any.whl.metadata (17 kB)\n",
      "Requirement already satisfied: PyYAML>=5.3 in /Users/ddiego/Developer/github/dougdiego/py-playground/chroma-langchain-demo/venv/lib/python3.12/site-packages (from langchain_core) (6.0.1)\n",
      "Requirement already satisfied: jsonpatch<2.0,>=1.33 in /Users/ddiego/Developer/github/dougdiego/py-playground/chroma-langchain-demo/venv/lib/python3.12/site-packages (from langchain_core) (1.33)\n",
      "Requirement already satisfied: langsmith<0.2.0,>=0.1.0 in /Users/ddiego/Developer/github/dougdiego/py-playground/chroma-langchain-demo/venv/lib/python3.12/site-packages (from langchain_core) (0.1.58)\n",
      "Requirement already satisfied: packaging<24.0,>=23.2 in /Users/ddiego/Developer/github/dougdiego/py-playground/chroma-langchain-demo/venv/lib/python3.12/site-packages (from langchain_core) (23.2)\n",
      "Requirement already satisfied: pydantic<3,>=1 in /Users/ddiego/Developer/github/dougdiego/py-playground/chroma-langchain-demo/venv/lib/python3.12/site-packages (from langchain_core) (2.7.1)\n",
      "Requirement already satisfied: tenacity<9.0.0,>=8.1.0 in /Users/ddiego/Developer/github/dougdiego/py-playground/chroma-langchain-demo/venv/lib/python3.12/site-packages (from langchain_core) (8.3.0)\n",
      "Collecting anthropic<1,>=0.47.0 (from langchain-anthropic)\n",
      "  Downloading anthropic-0.47.2-py3-none-any.whl.metadata (24 kB)\n",
      "Collecting langchain_core\n",
      "  Downloading langchain_core-0.3.40-py3-none-any.whl.metadata (5.9 kB)\n",
      "Collecting pydantic<3,>=1 (from langchain_core)\n",
      "  Downloading pydantic-2.10.6-py3-none-any.whl.metadata (30 kB)\n",
      "Collecting langsmith<0.4,>=0.1.125 (from langchain_core)\n",
      "  Downloading langsmith-0.3.11-py3-none-any.whl.metadata (14 kB)\n",
      "Requirement already satisfied: typing-extensions>=4.7 in /Users/ddiego/Developer/github/dougdiego/py-playground/chroma-langchain-demo/venv/lib/python3.12/site-packages (from langchain_core) (4.11.0)\n",
      "Collecting langgraph-checkpoint<3.0.0,>=2.0.10 (from langgraph)\n",
      "  Downloading langgraph_checkpoint-2.0.16-py3-none-any.whl.metadata (4.6 kB)\n",
      "Collecting langgraph-sdk<0.2.0,>=0.1.42 (from langgraph)\n",
      "  Downloading langgraph_sdk-0.1.53-py3-none-any.whl.metadata (1.8 kB)\n",
      "Requirement already satisfied: anyio<5,>=3.5.0 in /Users/ddiego/Developer/github/dougdiego/py-playground/chroma-langchain-demo/venv/lib/python3.12/site-packages (from anthropic<1,>=0.47.0->langchain-anthropic) (4.3.0)\n",
      "Requirement already satisfied: distro<2,>=1.7.0 in /Users/ddiego/Developer/github/dougdiego/py-playground/chroma-langchain-demo/venv/lib/python3.12/site-packages (from anthropic<1,>=0.47.0->langchain-anthropic) (1.9.0)\n",
      "Requirement already satisfied: httpx<1,>=0.23.0 in /Users/ddiego/Developer/github/dougdiego/py-playground/chroma-langchain-demo/venv/lib/python3.12/site-packages (from anthropic<1,>=0.47.0->langchain-anthropic) (0.27.0)\n",
      "Collecting jiter<1,>=0.4.0 (from anthropic<1,>=0.47.0->langchain-anthropic)\n",
      "  Downloading jiter-0.8.2-cp312-cp312-macosx_11_0_arm64.whl.metadata (5.2 kB)\n",
      "Requirement already satisfied: sniffio in /Users/ddiego/Developer/github/dougdiego/py-playground/chroma-langchain-demo/venv/lib/python3.12/site-packages (from anthropic<1,>=0.47.0->langchain-anthropic) (1.3.1)\n",
      "Requirement already satisfied: jsonpointer>=1.9 in /Users/ddiego/Developer/github/dougdiego/py-playground/chroma-langchain-demo/venv/lib/python3.12/site-packages (from jsonpatch<2.0,>=1.33->langchain_core) (2.4)\n",
      "Collecting msgpack<2.0.0,>=1.1.0 (from langgraph-checkpoint<3.0.0,>=2.0.10->langgraph)\n",
      "  Downloading msgpack-1.1.0-cp312-cp312-macosx_11_0_arm64.whl.metadata (8.4 kB)\n",
      "Requirement already satisfied: orjson>=3.10.1 in /Users/ddiego/Developer/github/dougdiego/py-playground/chroma-langchain-demo/venv/lib/python3.12/site-packages (from langgraph-sdk<0.2.0,>=0.1.42->langgraph) (3.10.3)\n",
      "Requirement already satisfied: requests<3,>=2 in /Users/ddiego/Developer/github/dougdiego/py-playground/chroma-langchain-demo/venv/lib/python3.12/site-packages (from langsmith<0.4,>=0.1.125->langchain_core) (2.31.0)\n",
      "Collecting requests-toolbelt<2.0.0,>=1.0.0 (from langsmith<0.4,>=0.1.125->langchain_core)\n",
      "  Using cached requests_toolbelt-1.0.0-py2.py3-none-any.whl.metadata (14 kB)\n",
      "Collecting zstandard<0.24.0,>=0.23.0 (from langsmith<0.4,>=0.1.125->langchain_core)\n",
      "  Downloading zstandard-0.23.0-cp312-cp312-macosx_11_0_arm64.whl.metadata (3.0 kB)\n",
      "Requirement already satisfied: annotated-types>=0.6.0 in /Users/ddiego/Developer/github/dougdiego/py-playground/chroma-langchain-demo/venv/lib/python3.12/site-packages (from pydantic<3,>=1->langchain_core) (0.6.0)\n",
      "Collecting pydantic-core==2.27.2 (from pydantic<3,>=1->langchain_core)\n",
      "  Downloading pydantic_core-2.27.2-cp312-cp312-macosx_11_0_arm64.whl.metadata (6.6 kB)\n",
      "Collecting typing-extensions>=4.7 (from langchain_core)\n",
      "  Using cached typing_extensions-4.12.2-py3-none-any.whl.metadata (3.0 kB)\n",
      "Requirement already satisfied: idna>=2.8 in /Users/ddiego/Developer/github/dougdiego/py-playground/chroma-langchain-demo/venv/lib/python3.12/site-packages (from anyio<5,>=3.5.0->anthropic<1,>=0.47.0->langchain-anthropic) (3.7)\n",
      "Requirement already satisfied: certifi in /Users/ddiego/Developer/github/dougdiego/py-playground/chroma-langchain-demo/venv/lib/python3.12/site-packages (from httpx<1,>=0.23.0->anthropic<1,>=0.47.0->langchain-anthropic) (2024.2.2)\n",
      "Requirement already satisfied: httpcore==1.* in /Users/ddiego/Developer/github/dougdiego/py-playground/chroma-langchain-demo/venv/lib/python3.12/site-packages (from httpx<1,>=0.23.0->anthropic<1,>=0.47.0->langchain-anthropic) (1.0.5)\n",
      "Requirement already satisfied: h11<0.15,>=0.13 in /Users/ddiego/Developer/github/dougdiego/py-playground/chroma-langchain-demo/venv/lib/python3.12/site-packages (from httpcore==1.*->httpx<1,>=0.23.0->anthropic<1,>=0.47.0->langchain-anthropic) (0.14.0)\n",
      "Requirement already satisfied: charset-normalizer<4,>=2 in /Users/ddiego/Developer/github/dougdiego/py-playground/chroma-langchain-demo/venv/lib/python3.12/site-packages (from requests<3,>=2->langsmith<0.4,>=0.1.125->langchain_core) (3.3.2)\n",
      "Requirement already satisfied: urllib3<3,>=1.21.1 in /Users/ddiego/Developer/github/dougdiego/py-playground/chroma-langchain-demo/venv/lib/python3.12/site-packages (from requests<3,>=2->langsmith<0.4,>=0.1.125->langchain_core) (2.2.1)\n",
      "Downloading langchain_anthropic-0.3.8-py3-none-any.whl (23 kB)\n",
      "Downloading langchain_core-0.3.40-py3-none-any.whl (414 kB)\n",
      "\u001b[2K   \u001b[90m━━━━━━━━━━━━━━━━━━━━━━━━━━━━━━━━━━━━━━━━\u001b[0m \u001b[32m414.3/414.3 kB\u001b[0m \u001b[31m22.1 MB/s\u001b[0m eta \u001b[36m0:00:00\u001b[0m\n",
      "\u001b[?25hDownloading langgraph-0.2.75-py3-none-any.whl (153 kB)\n",
      "\u001b[2K   \u001b[90m━━━━━━━━━━━━━━━━━━━━━━━━━━━━━━━━━━━━━━━━\u001b[0m \u001b[32m153.7/153.7 kB\u001b[0m \u001b[31m26.5 MB/s\u001b[0m eta \u001b[36m0:00:00\u001b[0m\n",
      "\u001b[?25hDownloading anthropic-0.47.2-py3-none-any.whl (239 kB)\n",
      "\u001b[2K   \u001b[90m━━━━━━━━━━━━━━━━━━━━━━━━━━━━━━━━━━━━━━━━\u001b[0m \u001b[32m239.5/239.5 kB\u001b[0m \u001b[31m30.5 MB/s\u001b[0m eta \u001b[36m0:00:00\u001b[0m\n",
      "\u001b[?25hDownloading langgraph_checkpoint-2.0.16-py3-none-any.whl (38 kB)\n",
      "Downloading langgraph_sdk-0.1.53-py3-none-any.whl (45 kB)\n",
      "\u001b[2K   \u001b[90m━━━━━━━━━━━━━━━━━━━━━━━━━━━━━━━━━━━━━━━━\u001b[0m \u001b[32m45.4/45.4 kB\u001b[0m \u001b[31m9.9 MB/s\u001b[0m eta \u001b[36m0:00:00\u001b[0m\n",
      "\u001b[?25hDownloading langsmith-0.3.11-py3-none-any.whl (335 kB)\n",
      "\u001b[2K   \u001b[90m━━━━━━━━━━━━━━━━━━━━━━━━━━━━━━━━━━━━━━━━\u001b[0m \u001b[32m335.3/335.3 kB\u001b[0m \u001b[31m44.1 MB/s\u001b[0m eta \u001b[36m0:00:00\u001b[0m\n",
      "\u001b[?25hDownloading pydantic-2.10.6-py3-none-any.whl (431 kB)\n",
      "\u001b[2K   \u001b[90m━━━━━━━━━━━━━━━━━━━━━━━━━━━━━━━━━━━━━━━━\u001b[0m \u001b[32m431.7/431.7 kB\u001b[0m \u001b[31m45.7 MB/s\u001b[0m eta \u001b[36m0:00:00\u001b[0m\n",
      "\u001b[?25hDownloading pydantic_core-2.27.2-cp312-cp312-macosx_11_0_arm64.whl (1.8 MB)\n",
      "\u001b[2K   \u001b[90m━━━━━━━━━━━━━━━━━━━━━━━━━━━━━━━━━━━━━━━━\u001b[0m \u001b[32m1.8/1.8 MB\u001b[0m \u001b[31m28.5 MB/s\u001b[0m eta \u001b[36m0:00:00\u001b[0ma \u001b[36m0:00:01\u001b[0m\n",
      "\u001b[?25hUsing cached typing_extensions-4.12.2-py3-none-any.whl (37 kB)\n",
      "Downloading jiter-0.8.2-cp312-cp312-macosx_11_0_arm64.whl (310 kB)\n",
      "\u001b[2K   \u001b[90m━━━━━━━━━━━━━━━━━━━━━━━━━━━━━━━━━━━━━━━━\u001b[0m \u001b[32m310.3/310.3 kB\u001b[0m \u001b[31m41.2 MB/s\u001b[0m eta \u001b[36m0:00:00\u001b[0m\n",
      "\u001b[?25hDownloading msgpack-1.1.0-cp312-cp312-macosx_11_0_arm64.whl (82 kB)\n",
      "\u001b[2K   \u001b[90m━━━━━━━━━━━━━━━━━━━━━━━━━━━━━━━━━━━━━━━━\u001b[0m \u001b[32m82.2/82.2 kB\u001b[0m \u001b[31m10.4 MB/s\u001b[0m eta \u001b[36m0:00:00\u001b[0m\n",
      "\u001b[?25hUsing cached requests_toolbelt-1.0.0-py2.py3-none-any.whl (54 kB)\n",
      "Downloading zstandard-0.23.0-cp312-cp312-macosx_11_0_arm64.whl (633 kB)\n",
      "\u001b[2K   \u001b[90m━━━━━━━━━━━━━━━━━━━━━━━━━━━━━━━━━━━━━━━━\u001b[0m \u001b[32m633.5/633.5 kB\u001b[0m \u001b[31m43.0 MB/s\u001b[0m eta \u001b[36m0:00:00\u001b[0m\n",
      "\u001b[?25hInstalling collected packages: zstandard, typing-extensions, msgpack, jiter, requests-toolbelt, pydantic-core, pydantic, langgraph-sdk, langsmith, anthropic, langchain_core, langgraph-checkpoint, langchain-anthropic, langgraph\n",
      "  Attempting uninstall: typing-extensions\n",
      "    Found existing installation: typing_extensions 4.11.0\n",
      "    Uninstalling typing_extensions-4.11.0:\n",
      "      Successfully uninstalled typing_extensions-4.11.0\n",
      "  Attempting uninstall: pydantic-core\n",
      "    Found existing installation: pydantic_core 2.18.2\n",
      "    Uninstalling pydantic_core-2.18.2:\n",
      "      Successfully uninstalled pydantic_core-2.18.2\n",
      "  Attempting uninstall: pydantic\n",
      "    Found existing installation: pydantic 2.7.1\n",
      "    Uninstalling pydantic-2.7.1:\n",
      "      Successfully uninstalled pydantic-2.7.1\n",
      "  Attempting uninstall: langsmith\n",
      "    Found existing installation: langsmith 0.1.58\n",
      "    Uninstalling langsmith-0.1.58:\n",
      "      Successfully uninstalled langsmith-0.1.58\n",
      "  Attempting uninstall: langchain_core\n",
      "    Found existing installation: langchain-core 0.1.52\n",
      "    Uninstalling langchain-core-0.1.52:\n",
      "      Successfully uninstalled langchain-core-0.1.52\n",
      "\u001b[31mERROR: pip's dependency resolver does not currently take into account all the packages that are installed. This behaviour is the source of the following dependency conflicts.\n",
      "langchain-community 0.0.38 requires langchain-core<0.2.0,>=0.1.52, but you have langchain-core 0.3.40 which is incompatible.\n",
      "langchain-community 0.0.38 requires langsmith<0.2.0,>=0.1.0, but you have langsmith 0.3.11 which is incompatible.\n",
      "langchain-text-splitters 0.0.1 requires langchain-core<0.2.0,>=0.1.28, but you have langchain-core 0.3.40 which is incompatible.\n",
      "langchain 0.1.20 requires langchain-core<0.2.0,>=0.1.52, but you have langchain-core 0.3.40 which is incompatible.\n",
      "langchain 0.1.20 requires langsmith<0.2.0,>=0.1.17, but you have langsmith 0.3.11 which is incompatible.\u001b[0m\u001b[31m\n",
      "\u001b[0mSuccessfully installed anthropic-0.47.2 jiter-0.8.2 langchain-anthropic-0.3.8 langchain_core-0.3.40 langgraph-0.2.75 langgraph-checkpoint-2.0.16 langgraph-sdk-0.1.53 langsmith-0.3.11 msgpack-1.1.0 pydantic-2.10.6 pydantic-core-2.27.2 requests-toolbelt-1.0.0 typing-extensions-4.12.2 zstandard-0.23.0\n",
      "\n",
      "\u001b[1m[\u001b[0m\u001b[34;49mnotice\u001b[0m\u001b[1;39;49m]\u001b[0m\u001b[39;49m A new release of pip is available: \u001b[0m\u001b[31;49m24.0\u001b[0m\u001b[39;49m -> \u001b[0m\u001b[32;49m25.0.1\u001b[0m\n",
      "\u001b[1m[\u001b[0m\u001b[34;49mnotice\u001b[0m\u001b[1;39;49m]\u001b[0m\u001b[39;49m To update, run: \u001b[0m\u001b[32;49mpip install --upgrade pip\u001b[0m\n"
     ]
    }
   ],
   "source": [
    "! pip install langchain_core langchain-anthropic langgraph "
   ]
  },
  {
   "cell_type": "code",
   "execution_count": 2,
   "metadata": {},
   "outputs": [
    {
     "name": "stdout",
     "output_type": "stream",
     "text": [
      "Collecting langchain-google-vertexai\n",
      "  Downloading langchain_google_vertexai-2.0.14-py3-none-any.whl.metadata (3.8 kB)\n",
      "Requirement already satisfied: anthropic[vertex] in /Users/ddiego/Developer/github/dougdiego/py-playground/chroma-langchain-demo/venv/lib/python3.12/site-packages (0.47.2)\n",
      "Collecting google-cloud-aiplatform<2.0.0,>=1.81.0 (from langchain-google-vertexai)\n",
      "  Downloading google_cloud_aiplatform-1.81.0-py2.py3-none-any.whl.metadata (32 kB)\n",
      "Collecting google-cloud-storage<3.0.0,>=2.18.0 (from langchain-google-vertexai)\n",
      "  Downloading google_cloud_storage-2.19.0-py2.py3-none-any.whl.metadata (9.1 kB)\n",
      "Collecting httpx<0.29.0,>=0.28.0 (from langchain-google-vertexai)\n",
      "  Downloading httpx-0.28.1-py3-none-any.whl.metadata (7.1 kB)\n",
      "Collecting httpx-sse<0.5.0,>=0.4.0 (from langchain-google-vertexai)\n",
      "  Using cached httpx_sse-0.4.0-py3-none-any.whl.metadata (9.0 kB)\n",
      "Requirement already satisfied: langchain-core<0.4,>=0.3.31 in /Users/ddiego/Developer/github/dougdiego/py-playground/chroma-langchain-demo/venv/lib/python3.12/site-packages (from langchain-google-vertexai) (0.3.40)\n",
      "Requirement already satisfied: pydantic<3.0,>=2.9 in /Users/ddiego/Developer/github/dougdiego/py-playground/chroma-langchain-demo/venv/lib/python3.12/site-packages (from langchain-google-vertexai) (2.10.6)\n",
      "Requirement already satisfied: anyio<5,>=3.5.0 in /Users/ddiego/Developer/github/dougdiego/py-playground/chroma-langchain-demo/venv/lib/python3.12/site-packages (from anthropic[vertex]) (4.3.0)\n",
      "Requirement already satisfied: distro<2,>=1.7.0 in /Users/ddiego/Developer/github/dougdiego/py-playground/chroma-langchain-demo/venv/lib/python3.12/site-packages (from anthropic[vertex]) (1.9.0)\n",
      "Requirement already satisfied: jiter<1,>=0.4.0 in /Users/ddiego/Developer/github/dougdiego/py-playground/chroma-langchain-demo/venv/lib/python3.12/site-packages (from anthropic[vertex]) (0.8.2)\n",
      "Requirement already satisfied: sniffio in /Users/ddiego/Developer/github/dougdiego/py-playground/chroma-langchain-demo/venv/lib/python3.12/site-packages (from anthropic[vertex]) (1.3.1)\n",
      "Requirement already satisfied: typing-extensions<5,>=4.10 in /Users/ddiego/Developer/github/dougdiego/py-playground/chroma-langchain-demo/venv/lib/python3.12/site-packages (from anthropic[vertex]) (4.12.2)\n",
      "Requirement already satisfied: google-auth<3,>=2 in /Users/ddiego/Developer/github/dougdiego/py-playground/chroma-langchain-demo/venv/lib/python3.12/site-packages (from anthropic[vertex]) (2.29.0)\n",
      "Requirement already satisfied: idna>=2.8 in /Users/ddiego/Developer/github/dougdiego/py-playground/chroma-langchain-demo/venv/lib/python3.12/site-packages (from anyio<5,>=3.5.0->anthropic[vertex]) (3.7)\n",
      "Requirement already satisfied: cachetools<6.0,>=2.0.0 in /Users/ddiego/Developer/github/dougdiego/py-playground/chroma-langchain-demo/venv/lib/python3.12/site-packages (from google-auth<3,>=2->anthropic[vertex]) (5.3.3)\n",
      "Requirement already satisfied: pyasn1-modules>=0.2.1 in /Users/ddiego/Developer/github/dougdiego/py-playground/chroma-langchain-demo/venv/lib/python3.12/site-packages (from google-auth<3,>=2->anthropic[vertex]) (0.4.0)\n",
      "Requirement already satisfied: rsa<5,>=3.1.4 in /Users/ddiego/Developer/github/dougdiego/py-playground/chroma-langchain-demo/venv/lib/python3.12/site-packages (from google-auth<3,>=2->anthropic[vertex]) (4.9)\n",
      "Collecting google-api-core!=2.0.*,!=2.1.*,!=2.2.*,!=2.3.*,!=2.4.*,!=2.5.*,!=2.6.*,!=2.7.*,<3.0.0dev,>=1.34.1 (from google-api-core[grpc]!=2.0.*,!=2.1.*,!=2.2.*,!=2.3.*,!=2.4.*,!=2.5.*,!=2.6.*,!=2.7.*,<3.0.0dev,>=1.34.1->google-cloud-aiplatform<2.0.0,>=1.81.0->langchain-google-vertexai)\n",
      "  Downloading google_api_core-2.24.1-py3-none-any.whl.metadata (3.0 kB)\n",
      "Collecting proto-plus<2.0.0dev,>=1.22.3 (from google-cloud-aiplatform<2.0.0,>=1.81.0->langchain-google-vertexai)\n",
      "  Downloading proto_plus-1.26.0-py3-none-any.whl.metadata (2.2 kB)\n",
      "Requirement already satisfied: protobuf!=4.21.0,!=4.21.1,!=4.21.2,!=4.21.3,!=4.21.4,!=4.21.5,<6.0.0dev,>=3.20.2 in /Users/ddiego/Developer/github/dougdiego/py-playground/chroma-langchain-demo/venv/lib/python3.12/site-packages (from google-cloud-aiplatform<2.0.0,>=1.81.0->langchain-google-vertexai) (4.25.3)\n",
      "Requirement already satisfied: packaging>=14.3 in /Users/ddiego/Developer/github/dougdiego/py-playground/chroma-langchain-demo/venv/lib/python3.12/site-packages (from google-cloud-aiplatform<2.0.0,>=1.81.0->langchain-google-vertexai) (23.2)\n",
      "Collecting google-cloud-bigquery!=3.20.0,<4.0.0dev,>=1.15.0 (from google-cloud-aiplatform<2.0.0,>=1.81.0->langchain-google-vertexai)\n",
      "  Downloading google_cloud_bigquery-3.29.0-py2.py3-none-any.whl.metadata (7.6 kB)\n",
      "Collecting google-cloud-resource-manager<3.0.0dev,>=1.3.3 (from google-cloud-aiplatform<2.0.0,>=1.81.0->langchain-google-vertexai)\n",
      "  Downloading google_cloud_resource_manager-1.14.1-py2.py3-none-any.whl.metadata (5.4 kB)\n",
      "Collecting shapely<3.0.0dev (from google-cloud-aiplatform<2.0.0,>=1.81.0->langchain-google-vertexai)\n",
      "  Downloading shapely-2.0.7-cp312-cp312-macosx_11_0_arm64.whl.metadata (6.8 kB)\n",
      "Collecting docstring-parser<1 (from google-cloud-aiplatform<2.0.0,>=1.81.0->langchain-google-vertexai)\n",
      "  Using cached docstring_parser-0.16-py3-none-any.whl.metadata (3.0 kB)\n",
      "Collecting google-cloud-core<3.0dev,>=2.3.0 (from google-cloud-storage<3.0.0,>=2.18.0->langchain-google-vertexai)\n",
      "  Downloading google_cloud_core-2.4.2-py2.py3-none-any.whl.metadata (2.7 kB)\n",
      "Collecting google-resumable-media>=2.7.2 (from google-cloud-storage<3.0.0,>=2.18.0->langchain-google-vertexai)\n",
      "  Using cached google_resumable_media-2.7.2-py2.py3-none-any.whl.metadata (2.2 kB)\n",
      "Requirement already satisfied: requests<3.0.0dev,>=2.18.0 in /Users/ddiego/Developer/github/dougdiego/py-playground/chroma-langchain-demo/venv/lib/python3.12/site-packages (from google-cloud-storage<3.0.0,>=2.18.0->langchain-google-vertexai) (2.31.0)\n",
      "Collecting google-crc32c<2.0dev,>=1.0 (from google-cloud-storage<3.0.0,>=2.18.0->langchain-google-vertexai)\n",
      "  Downloading google_crc32c-1.6.0-cp312-cp312-macosx_12_0_arm64.whl.metadata (2.3 kB)\n",
      "Requirement already satisfied: certifi in /Users/ddiego/Developer/github/dougdiego/py-playground/chroma-langchain-demo/venv/lib/python3.12/site-packages (from httpx<0.29.0,>=0.28.0->langchain-google-vertexai) (2024.2.2)\n",
      "Requirement already satisfied: httpcore==1.* in /Users/ddiego/Developer/github/dougdiego/py-playground/chroma-langchain-demo/venv/lib/python3.12/site-packages (from httpx<0.29.0,>=0.28.0->langchain-google-vertexai) (1.0.5)\n",
      "Requirement already satisfied: h11<0.15,>=0.13 in /Users/ddiego/Developer/github/dougdiego/py-playground/chroma-langchain-demo/venv/lib/python3.12/site-packages (from httpcore==1.*->httpx<0.29.0,>=0.28.0->langchain-google-vertexai) (0.14.0)\n",
      "Requirement already satisfied: langsmith<0.4,>=0.1.125 in /Users/ddiego/Developer/github/dougdiego/py-playground/chroma-langchain-demo/venv/lib/python3.12/site-packages (from langchain-core<0.4,>=0.3.31->langchain-google-vertexai) (0.3.11)\n",
      "Requirement already satisfied: tenacity!=8.4.0,<10.0.0,>=8.1.0 in /Users/ddiego/Developer/github/dougdiego/py-playground/chroma-langchain-demo/venv/lib/python3.12/site-packages (from langchain-core<0.4,>=0.3.31->langchain-google-vertexai) (8.3.0)\n",
      "Requirement already satisfied: jsonpatch<2.0,>=1.33 in /Users/ddiego/Developer/github/dougdiego/py-playground/chroma-langchain-demo/venv/lib/python3.12/site-packages (from langchain-core<0.4,>=0.3.31->langchain-google-vertexai) (1.33)\n",
      "Requirement already satisfied: PyYAML>=5.3 in /Users/ddiego/Developer/github/dougdiego/py-playground/chroma-langchain-demo/venv/lib/python3.12/site-packages (from langchain-core<0.4,>=0.3.31->langchain-google-vertexai) (6.0.1)\n",
      "Requirement already satisfied: annotated-types>=0.6.0 in /Users/ddiego/Developer/github/dougdiego/py-playground/chroma-langchain-demo/venv/lib/python3.12/site-packages (from pydantic<3.0,>=2.9->langchain-google-vertexai) (0.6.0)\n",
      "Requirement already satisfied: pydantic-core==2.27.2 in /Users/ddiego/Developer/github/dougdiego/py-playground/chroma-langchain-demo/venv/lib/python3.12/site-packages (from pydantic<3.0,>=2.9->langchain-google-vertexai) (2.27.2)\n",
      "Requirement already satisfied: googleapis-common-protos<2.0.dev0,>=1.56.2 in /Users/ddiego/Developer/github/dougdiego/py-playground/chroma-langchain-demo/venv/lib/python3.12/site-packages (from google-api-core!=2.0.*,!=2.1.*,!=2.2.*,!=2.3.*,!=2.4.*,!=2.5.*,!=2.6.*,!=2.7.*,<3.0.0dev,>=1.34.1->google-api-core[grpc]!=2.0.*,!=2.1.*,!=2.2.*,!=2.3.*,!=2.4.*,!=2.5.*,!=2.6.*,!=2.7.*,<3.0.0dev,>=1.34.1->google-cloud-aiplatform<2.0.0,>=1.81.0->langchain-google-vertexai) (1.63.0)\n",
      "Requirement already satisfied: grpcio<2.0dev,>=1.33.2 in /Users/ddiego/Developer/github/dougdiego/py-playground/chroma-langchain-demo/venv/lib/python3.12/site-packages (from google-api-core[grpc]!=2.0.*,!=2.1.*,!=2.2.*,!=2.3.*,!=2.4.*,!=2.5.*,!=2.6.*,!=2.7.*,<3.0.0dev,>=1.34.1->google-cloud-aiplatform<2.0.0,>=1.81.0->langchain-google-vertexai) (1.63.0)\n",
      "Collecting grpcio-status<2.0.dev0,>=1.33.2 (from google-api-core[grpc]!=2.0.*,!=2.1.*,!=2.2.*,!=2.3.*,!=2.4.*,!=2.5.*,!=2.6.*,!=2.7.*,<3.0.0dev,>=1.34.1->google-cloud-aiplatform<2.0.0,>=1.81.0->langchain-google-vertexai)\n",
      "  Downloading grpcio_status-1.70.0-py3-none-any.whl.metadata (1.1 kB)\n",
      "Requirement already satisfied: python-dateutil<3.0dev,>=2.7.3 in /Users/ddiego/Developer/github/dougdiego/py-playground/chroma-langchain-demo/venv/lib/python3.12/site-packages (from google-cloud-bigquery!=3.20.0,<4.0.0dev,>=1.15.0->google-cloud-aiplatform<2.0.0,>=1.81.0->langchain-google-vertexai) (2.9.0.post0)\n",
      "Collecting grpc-google-iam-v1<1.0.0dev,>=0.14.0 (from google-cloud-resource-manager<3.0.0dev,>=1.3.3->google-cloud-aiplatform<2.0.0,>=1.81.0->langchain-google-vertexai)\n",
      "  Downloading grpc_google_iam_v1-0.14.0-py2.py3-none-any.whl.metadata (3.3 kB)\n",
      "Requirement already satisfied: jsonpointer>=1.9 in /Users/ddiego/Developer/github/dougdiego/py-playground/chroma-langchain-demo/venv/lib/python3.12/site-packages (from jsonpatch<2.0,>=1.33->langchain-core<0.4,>=0.3.31->langchain-google-vertexai) (2.4)\n",
      "Requirement already satisfied: orjson<4.0.0,>=3.9.14 in /Users/ddiego/Developer/github/dougdiego/py-playground/chroma-langchain-demo/venv/lib/python3.12/site-packages (from langsmith<0.4,>=0.1.125->langchain-core<0.4,>=0.3.31->langchain-google-vertexai) (3.10.3)\n",
      "Requirement already satisfied: requests-toolbelt<2.0.0,>=1.0.0 in /Users/ddiego/Developer/github/dougdiego/py-playground/chroma-langchain-demo/venv/lib/python3.12/site-packages (from langsmith<0.4,>=0.1.125->langchain-core<0.4,>=0.3.31->langchain-google-vertexai) (1.0.0)\n",
      "Requirement already satisfied: zstandard<0.24.0,>=0.23.0 in /Users/ddiego/Developer/github/dougdiego/py-playground/chroma-langchain-demo/venv/lib/python3.12/site-packages (from langsmith<0.4,>=0.1.125->langchain-core<0.4,>=0.3.31->langchain-google-vertexai) (0.23.0)\n",
      "Requirement already satisfied: pyasn1<0.7.0,>=0.4.6 in /Users/ddiego/Developer/github/dougdiego/py-playground/chroma-langchain-demo/venv/lib/python3.12/site-packages (from pyasn1-modules>=0.2.1->google-auth<3,>=2->anthropic[vertex]) (0.6.0)\n",
      "Requirement already satisfied: charset-normalizer<4,>=2 in /Users/ddiego/Developer/github/dougdiego/py-playground/chroma-langchain-demo/venv/lib/python3.12/site-packages (from requests<3.0.0dev,>=2.18.0->google-cloud-storage<3.0.0,>=2.18.0->langchain-google-vertexai) (3.3.2)\n",
      "Requirement already satisfied: urllib3<3,>=1.21.1 in /Users/ddiego/Developer/github/dougdiego/py-playground/chroma-langchain-demo/venv/lib/python3.12/site-packages (from requests<3.0.0dev,>=2.18.0->google-cloud-storage<3.0.0,>=2.18.0->langchain-google-vertexai) (2.2.1)\n",
      "Requirement already satisfied: numpy<3,>=1.14 in /Users/ddiego/Developer/github/dougdiego/py-playground/chroma-langchain-demo/venv/lib/python3.12/site-packages (from shapely<3.0.0dev->google-cloud-aiplatform<2.0.0,>=1.81.0->langchain-google-vertexai) (1.26.4)\n",
      "INFO: pip is looking at multiple versions of grpcio-status to determine which version is compatible with other requirements. This could take a while.\n",
      "Collecting grpcio-status<2.0.dev0,>=1.33.2 (from google-api-core[grpc]!=2.0.*,!=2.1.*,!=2.2.*,!=2.3.*,!=2.4.*,!=2.5.*,!=2.6.*,!=2.7.*,<3.0.0dev,>=1.34.1->google-cloud-aiplatform<2.0.0,>=1.81.0->langchain-google-vertexai)\n",
      "  Downloading grpcio_status-1.69.0-py3-none-any.whl.metadata (1.1 kB)\n",
      "  Downloading grpcio_status-1.68.1-py3-none-any.whl.metadata (1.1 kB)\n",
      "  Downloading grpcio_status-1.68.0-py3-none-any.whl.metadata (1.1 kB)\n",
      "  Downloading grpcio_status-1.67.1-py3-none-any.whl.metadata (1.1 kB)\n",
      "  Downloading grpcio_status-1.67.0-py3-none-any.whl.metadata (1.1 kB)\n",
      "  Downloading grpcio_status-1.66.2-py3-none-any.whl.metadata (1.1 kB)\n",
      "  Downloading grpcio_status-1.66.1-py3-none-any.whl.metadata (1.1 kB)\n",
      "INFO: pip is still looking at multiple versions of grpcio-status to determine which version is compatible with other requirements. This could take a while.\n",
      "  Downloading grpcio_status-1.66.0-py3-none-any.whl.metadata (1.1 kB)\n",
      "  Downloading grpcio_status-1.65.5-py3-none-any.whl.metadata (1.1 kB)\n",
      "  Downloading grpcio_status-1.65.4-py3-none-any.whl.metadata (1.1 kB)\n",
      "  Using cached grpcio_status-1.65.2-py3-none-any.whl.metadata (1.1 kB)\n",
      "  Using cached grpcio_status-1.65.1-py3-none-any.whl.metadata (1.1 kB)\n",
      "INFO: This is taking longer than usual. You might need to provide the dependency resolver with stricter constraints to reduce runtime. See https://pip.pypa.io/warnings/backtracking for guidance. If you want to abort this run, press Ctrl + C.\n",
      "  Downloading grpcio_status-1.64.3-py3-none-any.whl.metadata (1.1 kB)\n",
      "  Using cached grpcio_status-1.64.1-py3-none-any.whl.metadata (1.1 kB)\n",
      "  Using cached grpcio_status-1.64.0-py3-none-any.whl.metadata (1.1 kB)\n",
      "  Downloading grpcio_status-1.63.2-py3-none-any.whl.metadata (1.1 kB)\n",
      "  Using cached grpcio_status-1.63.0-py3-none-any.whl.metadata (1.1 kB)\n",
      "  Downloading grpcio_status-1.62.3-py3-none-any.whl.metadata (1.3 kB)\n",
      "Requirement already satisfied: six>=1.5 in /Users/ddiego/Developer/github/dougdiego/py-playground/chroma-langchain-demo/venv/lib/python3.12/site-packages (from python-dateutil<3.0dev,>=2.7.3->google-cloud-bigquery!=3.20.0,<4.0.0dev,>=1.15.0->google-cloud-aiplatform<2.0.0,>=1.81.0->langchain-google-vertexai) (1.16.0)\n",
      "Downloading langchain_google_vertexai-2.0.14-py3-none-any.whl (93 kB)\n",
      "\u001b[2K   \u001b[90m━━━━━━━━━━━━━━━━━━━━━━━━━━━━━━━━━━━━━━━━\u001b[0m \u001b[32m93.9/93.9 kB\u001b[0m \u001b[31m7.2 MB/s\u001b[0m eta \u001b[36m0:00:00\u001b[0m\n",
      "\u001b[?25hDownloading google_cloud_aiplatform-1.81.0-py2.py3-none-any.whl (7.3 MB)\n",
      "\u001b[2K   \u001b[90m━━━━━━━━━━━━━━━━━━━━━━━━━━━━━━━━━━━━━━━━\u001b[0m \u001b[32m7.3/7.3 MB\u001b[0m \u001b[31m85.7 MB/s\u001b[0m eta \u001b[36m0:00:00\u001b[0ma \u001b[36m0:00:01\u001b[0m\n",
      "\u001b[?25hDownloading google_cloud_storage-2.19.0-py2.py3-none-any.whl (131 kB)\n",
      "\u001b[2K   \u001b[90m━━━━━━━━━━━━━━━━━━━━━━━━━━━━━━━━━━━━━━━━\u001b[0m \u001b[32m131.8/131.8 kB\u001b[0m \u001b[31m18.3 MB/s\u001b[0m eta \u001b[36m0:00:00\u001b[0m\n",
      "\u001b[?25hDownloading httpx-0.28.1-py3-none-any.whl (73 kB)\n",
      "\u001b[2K   \u001b[90m━━━━━━━━━━━━━━━━━━━━━━━━━━━━━━━━━━━━━━━━\u001b[0m \u001b[32m73.5/73.5 kB\u001b[0m \u001b[31m8.9 MB/s\u001b[0m eta \u001b[36m0:00:00\u001b[0m\n",
      "\u001b[?25hUsing cached httpx_sse-0.4.0-py3-none-any.whl (7.8 kB)\n",
      "Using cached docstring_parser-0.16-py3-none-any.whl (36 kB)\n",
      "Downloading google_api_core-2.24.1-py3-none-any.whl (160 kB)\n",
      "\u001b[2K   \u001b[90m━━━━━━━━━━━━━━━━━━━━━━━━━━━━━━━━━━━━━━━━\u001b[0m \u001b[32m160.1/160.1 kB\u001b[0m \u001b[31m15.9 MB/s\u001b[0m eta \u001b[36m0:00:00\u001b[0m\n",
      "\u001b[?25hDownloading google_cloud_bigquery-3.29.0-py2.py3-none-any.whl (244 kB)\n",
      "\u001b[2K   \u001b[90m━━━━━━━━━━━━━━━━━━━━━━━━━━━━━━━━━━━━━━━━\u001b[0m \u001b[32m244.6/244.6 kB\u001b[0m \u001b[31m38.1 MB/s\u001b[0m eta \u001b[36m0:00:00\u001b[0m\n",
      "\u001b[?25hDownloading google_cloud_core-2.4.2-py2.py3-none-any.whl (29 kB)\n",
      "Downloading google_cloud_resource_manager-1.14.1-py2.py3-none-any.whl (392 kB)\n",
      "\u001b[2K   \u001b[90m━━━━━━━━━━━━━━━━━━━━━━━━━━━━━━━━━━━━━━━━\u001b[0m \u001b[32m392.3/392.3 kB\u001b[0m \u001b[31m44.3 MB/s\u001b[0m eta \u001b[36m0:00:00\u001b[0m\n",
      "\u001b[?25hDownloading google_crc32c-1.6.0-cp312-cp312-macosx_12_0_arm64.whl (30 kB)\n",
      "Using cached google_resumable_media-2.7.2-py2.py3-none-any.whl (81 kB)\n",
      "Downloading proto_plus-1.26.0-py3-none-any.whl (50 kB)\n",
      "\u001b[2K   \u001b[90m━━━━━━━━━━━━━━━━━━━━━━━━━━━━━━━━━━━━━━━━\u001b[0m \u001b[32m50.2/50.2 kB\u001b[0m \u001b[31m6.5 MB/s\u001b[0m eta \u001b[36m0:00:00\u001b[0m\n",
      "\u001b[?25hDownloading shapely-2.0.7-cp312-cp312-macosx_11_0_arm64.whl (1.3 MB)\n",
      "\u001b[2K   \u001b[90m━━━━━━━━━━━━━━━━━━━━━━━━━━━━━━━━━━━━━━━━\u001b[0m \u001b[32m1.3/1.3 MB\u001b[0m \u001b[31m68.1 MB/s\u001b[0m eta \u001b[36m0:00:00\u001b[0m\n",
      "\u001b[?25hDownloading grpc_google_iam_v1-0.14.0-py2.py3-none-any.whl (27 kB)\n",
      "Downloading grpcio_status-1.62.3-py3-none-any.whl (14 kB)\n",
      "Installing collected packages: shapely, proto-plus, httpx-sse, google-crc32c, docstring-parser, httpx, grpcio-status, google-resumable-media, grpc-google-iam-v1, google-api-core, google-cloud-core, google-cloud-storage, google-cloud-resource-manager, google-cloud-bigquery, google-cloud-aiplatform, langchain-google-vertexai\n",
      "  Attempting uninstall: httpx\n",
      "    Found existing installation: httpx 0.27.0\n",
      "    Uninstalling httpx-0.27.0:\n",
      "      Successfully uninstalled httpx-0.27.0\n",
      "\u001b[31mERROR: pip's dependency resolver does not currently take into account all the packages that are installed. This behaviour is the source of the following dependency conflicts.\n",
      "langchain 0.1.20 requires langchain-core<0.2.0,>=0.1.52, but you have langchain-core 0.3.40 which is incompatible.\n",
      "langchain 0.1.20 requires langsmith<0.2.0,>=0.1.17, but you have langsmith 0.3.11 which is incompatible.\u001b[0m\u001b[31m\n",
      "\u001b[0mSuccessfully installed docstring-parser-0.16 google-api-core-2.24.1 google-cloud-aiplatform-1.81.0 google-cloud-bigquery-3.29.0 google-cloud-core-2.4.2 google-cloud-resource-manager-1.14.1 google-cloud-storage-2.19.0 google-crc32c-1.6.0 google-resumable-media-2.7.2 grpc-google-iam-v1-0.14.0 grpcio-status-1.62.3 httpx-0.28.1 httpx-sse-0.4.0 langchain-google-vertexai-2.0.14 proto-plus-1.26.0 shapely-2.0.7\n",
      "\n",
      "\u001b[1m[\u001b[0m\u001b[34;49mnotice\u001b[0m\u001b[1;39;49m]\u001b[0m\u001b[39;49m A new release of pip is available: \u001b[0m\u001b[31;49m24.0\u001b[0m\u001b[39;49m -> \u001b[0m\u001b[32;49m25.0.1\u001b[0m\n",
      "\u001b[1m[\u001b[0m\u001b[34;49mnotice\u001b[0m\u001b[1;39;49m]\u001b[0m\u001b[39;49m To update, run: \u001b[0m\u001b[32;49mpip install --upgrade pip\u001b[0m\n"
     ]
    }
   ],
   "source": [
    "! pip install -U langchain-google-vertexai \"anthropic[vertex]\""
   ]
  },
  {
   "cell_type": "markdown",
   "metadata": {},
   "source": [
    "## Initialize an LLM"
   ]
  },
  {
   "cell_type": "code",
   "execution_count": null,
   "metadata": {},
   "outputs": [],
   "source": [
    "import os\n",
    "import getpass\n",
    "#from dotenv import load_dotenv\n",
    "from langchain_anthropic import ChatAnthropic\n",
    "\n",
    "#load_dotenv()\n",
    "\n",
    "def _set_env(var: str):\n",
    "    if not os.environ.get(var):\n",
    "        os.environ[var] = getpass.getpass(f\"{var}: \")\n",
    "\n",
    "# Load ANTHROPIC_API_KEY from .env\n",
    "#key = os.getenv(\"ANTHROPIC_API_KEY\")\n",
    "#print(key)\n",
    "\n",
    "_set_env(\"ANTHROPIC_API_KEY\")\n",
    "\n",
    "llm = ChatAnthropic(model=\"claude-3-5-sonnet-latest\")"
   ]
  },
  {
   "cell_type": "code",
   "execution_count": 6,
   "metadata": {},
   "outputs": [
    {
     "name": "stderr",
     "output_type": "stream",
     "text": [
      "/Users/ddiego/Developer/github/dougdiego/py-playground/chroma-langchain-demo/venv/lib/python3.12/site-packages/google/auth/_default.py:76: UserWarning: Your application has authenticated using end user credentials from Google Cloud SDK without a quota project. You might receive a \"quota exceeded\" or \"API not enabled\" error. See the following page for troubleshooting: https://cloud.google.com/docs/authentication/adc-troubleshooting/user-creds. \n",
      "  warnings.warn(_CLOUD_SDK_CREDENTIALS_WARNING)\n"
     ]
    },
    {
     "data": {
      "text/plain": [
       "AIMessage(content=\"Hello! As an AI language model, I don't have physical feelings, but I'm functioning properly and ready to assist you with any questions or tasks you may have. How can I help you today?\", additional_kwargs={}, response_metadata={'id': 'msg_vrtx_01DZnZf74RfmjVN8RcDEpQnP', 'model': 'claude-3-haiku-20240307', 'stop_reason': 'end_turn', 'stop_sequence': None, 'usage': {'cache_creation_input_tokens': 0, 'cache_read_input_tokens': 0, 'input_tokens': 13, 'output_tokens': 44}}, id='run-54a1fe2a-6bb9-463f-91a8-aa6a7bdf127d-0', usage_metadata={'input_tokens': 13, 'output_tokens': 44, 'total_tokens': 57, 'cache_creation_input_tokens': 0, 'cache_read_input_tokens': 0})"
      ]
     },
     "execution_count": 6,
     "metadata": {},
     "output_type": "execute_result"
    }
   ],
   "source": [
    "from langchain_google_vertexai.model_garden import ChatAnthropicVertex\n",
    "\n",
    "project = \"prosper-dev-1\"\n",
    "location = \"us-east5\"\n",
    "\n",
    "llm = ChatAnthropicVertex(\n",
    "    model_name=\"claude-3-haiku@20240307\",\n",
    "    project=project,\n",
    "    location=location,\n",
    ")\n",
    "\n",
    "llm.invoke(\"Hello, how are you?\")"
   ]
  },
  {
   "cell_type": "markdown",
   "metadata": {},
   "source": [
    "## Augmented LLM\n",
    "![Augmented LLM](images/augmented-llm.png)"
   ]
  },
  {
   "cell_type": "code",
   "execution_count": 4,
   "metadata": {},
   "outputs": [
    {
     "name": "stderr",
     "output_type": "stream",
     "text": [
      "/Users/ddiego/Developer/github/dougdiego/py-playground/chroma-langchain-demo/venv/lib/python3.12/site-packages/google/auth/_default.py:76: UserWarning: Your application has authenticated using end user credentials from Google Cloud SDK without a quota project. You might receive a \"quota exceeded\" or \"API not enabled\" error. See the following page for troubleshooting: https://cloud.google.com/docs/authentication/adc-troubleshooting/user-creds. \n",
      "  warnings.warn(_CLOUD_SDK_CREDENTIALS_WARNING)\n"
     ]
    },
    {
     "name": "stdout",
     "output_type": "stream",
     "text": [
      "search_query='Calcium CT score and high cholesterol relationship' justification='The user is asking about the relationship between calcium CT score and high cholesterol, so a search query on this topic is relevant to answering their question.'\n",
      "Calcium CT score and high cholesterol relationship\n",
      "The user is asking about the relationship between calcium CT score and high cholesterol, so a search query on this topic is relevant to answering their question.\n"
     ]
    }
   ],
   "source": [
    "# Schema for structured output\n",
    "from pydantic import BaseModel, Field\n",
    "class SearchQuery(BaseModel):\n",
    "    search_query: str = Field(None, description=\"Query that is optimized web search.\")\n",
    "    justification: str = Field(\n",
    "        None, justification=\"Why this query is relevant to the user's request.\"\n",
    "    )\n",
    "\n",
    "# Augment the LLM with schema for structured output\n",
    "structured_llm = llm.with_structured_output(SearchQuery)\n",
    "\n",
    "# Invoke the augmented LLM\n",
    "output = structured_llm.invoke(\"How does Calcium CT score relate to high cholesterol?\")\n",
    "print(output)\n",
    "print(output.search_query)\n",
    "print(output.justification)"
   ]
  },
  {
   "cell_type": "code",
   "execution_count": 7,
   "metadata": {},
   "outputs": [
    {
     "data": {
      "text/plain": [
       "[{'name': 'multiply',\n",
       "  'args': {'a': 2, 'b': 3},\n",
       "  'id': 'toolu_01JadrTooVwrYVDHBpgRKNKz',\n",
       "  'type': 'tool_call'}]"
      ]
     },
     "execution_count": 7,
     "metadata": {},
     "output_type": "execute_result"
    }
   ],
   "source": [
    "# Define a tool\n",
    "def multiply(a: int, b: int) -> int:\n",
    "    return a * b\n",
    "\n",
    "# Augment the LLM with tools\n",
    "llm_with_tools = llm.bind_tools([multiply])\n",
    "\n",
    "# Invoke the LLM with input that triggers the tool call\n",
    "msg = llm_with_tools.invoke(\"What is 2 times 3?\")\n",
    "\n",
    "# Get the tool call\n",
    "msg.tool_calls"
   ]
  },
  {
   "cell_type": "markdown",
   "metadata": {},
   "source": [
    "## Prompt Chaining\n",
    "![Prompt Chaining](images//prompt-chaining.png)\n"
   ]
  },
  {
   "cell_type": "code",
   "execution_count": 9,
   "metadata": {},
   "outputs": [],
   "source": [
    "from typing_extensions import TypedDict\n",
    "\n",
    "# Graph state\n",
    "class State(TypedDict):\n",
    "    topic: str\n",
    "    joke: str\n",
    "    improved_joke: str\n",
    "    final_joke: str"
   ]
  }
 ],
 "metadata": {
  "kernelspec": {
   "display_name": "venv",
   "language": "python",
   "name": "python3"
  },
  "language_info": {
   "codemirror_mode": {
    "name": "ipython",
    "version": 3
   },
   "file_extension": ".py",
   "mimetype": "text/x-python",
   "name": "python",
   "nbconvert_exporter": "python",
   "pygments_lexer": "ipython3",
   "version": "3.12.9"
  }
 },
 "nbformat": 4,
 "nbformat_minor": 2
}
