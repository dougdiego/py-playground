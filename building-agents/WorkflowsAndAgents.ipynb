{
 "cells": [
  {
   "cell_type": "code",
   "execution_count": 1,
   "metadata": {},
   "outputs": [
    {
     "name": "stdout",
     "output_type": "stream",
     "text": [
      "Requirement already satisfied: langchain_core in /Users/dougdiego/Developer/github/dougdiego/py-playground/venv/lib/python3.13/site-packages (0.3.25)\n",
      "Collecting langchain-anthropic\n",
      "  Downloading langchain_anthropic-0.3.7-py3-none-any.whl.metadata (1.9 kB)\n",
      "Collecting langgraph\n",
      "  Downloading langgraph-0.2.74-py3-none-any.whl.metadata (17 kB)\n",
      "Requirement already satisfied: PyYAML>=5.3 in /Users/dougdiego/Developer/github/dougdiego/py-playground/venv/lib/python3.13/site-packages (from langchain_core) (6.0.2)\n",
      "Requirement already satisfied: jsonpatch<2.0,>=1.33 in /Users/dougdiego/Developer/github/dougdiego/py-playground/venv/lib/python3.13/site-packages (from langchain_core) (1.33)\n",
      "Requirement already satisfied: langsmith<0.3,>=0.1.125 in /Users/dougdiego/Developer/github/dougdiego/py-playground/venv/lib/python3.13/site-packages (from langchain_core) (0.2.3)\n",
      "Requirement already satisfied: packaging<25,>=23.2 in /Users/dougdiego/Developer/github/dougdiego/py-playground/venv/lib/python3.13/site-packages (from langchain_core) (24.2)\n",
      "Requirement already satisfied: pydantic<3.0.0,>=2.7.4 in /Users/dougdiego/Developer/github/dougdiego/py-playground/venv/lib/python3.13/site-packages (from langchain_core) (2.10.3)\n",
      "Requirement already satisfied: tenacity!=8.4.0,<10.0.0,>=8.1.0 in /Users/dougdiego/Developer/github/dougdiego/py-playground/venv/lib/python3.13/site-packages (from langchain_core) (9.0.0)\n",
      "Requirement already satisfied: typing-extensions>=4.7 in /Users/dougdiego/Developer/github/dougdiego/py-playground/venv/lib/python3.13/site-packages (from langchain_core) (4.12.2)\n",
      "Collecting anthropic<1,>=0.45.0 (from langchain-anthropic)\n",
      "  Downloading anthropic-0.46.0-py3-none-any.whl.metadata (23 kB)\n",
      "Collecting langchain_core\n",
      "  Downloading langchain_core-0.3.38-py3-none-any.whl.metadata (5.9 kB)\n",
      "Collecting langgraph-checkpoint<3.0.0,>=2.0.10 (from langgraph)\n",
      "  Downloading langgraph_checkpoint-2.0.16-py3-none-any.whl.metadata (4.6 kB)\n",
      "Collecting langgraph-sdk<0.2.0,>=0.1.42 (from langgraph)\n",
      "  Downloading langgraph_sdk-0.1.53-py3-none-any.whl.metadata (1.8 kB)\n",
      "Requirement already satisfied: anyio<5,>=3.5.0 in /Users/dougdiego/Developer/github/dougdiego/py-playground/venv/lib/python3.13/site-packages (from anthropic<1,>=0.45.0->langchain-anthropic) (4.7.0)\n",
      "Requirement already satisfied: distro<2,>=1.7.0 in /Users/dougdiego/Developer/github/dougdiego/py-playground/venv/lib/python3.13/site-packages (from anthropic<1,>=0.45.0->langchain-anthropic) (1.9.0)\n",
      "Requirement already satisfied: httpx<1,>=0.23.0 in /Users/dougdiego/Developer/github/dougdiego/py-playground/venv/lib/python3.13/site-packages (from anthropic<1,>=0.45.0->langchain-anthropic) (0.28.1)\n",
      "Requirement already satisfied: jiter<1,>=0.4.0 in /Users/dougdiego/Developer/github/dougdiego/py-playground/venv/lib/python3.13/site-packages (from anthropic<1,>=0.45.0->langchain-anthropic) (0.8.2)\n",
      "Requirement already satisfied: sniffio in /Users/dougdiego/Developer/github/dougdiego/py-playground/venv/lib/python3.13/site-packages (from anthropic<1,>=0.45.0->langchain-anthropic) (1.3.1)\n",
      "Requirement already satisfied: jsonpointer>=1.9 in /Users/dougdiego/Developer/github/dougdiego/py-playground/venv/lib/python3.13/site-packages (from jsonpatch<2.0,>=1.33->langchain_core) (3.0.0)\n",
      "Collecting msgpack<2.0.0,>=1.1.0 (from langgraph-checkpoint<3.0.0,>=2.0.10->langgraph)\n",
      "  Downloading msgpack-1.1.0-cp313-cp313-macosx_11_0_arm64.whl.metadata (8.4 kB)\n",
      "Requirement already satisfied: orjson>=3.10.1 in /Users/dougdiego/Developer/github/dougdiego/py-playground/venv/lib/python3.13/site-packages (from langgraph-sdk<0.2.0,>=0.1.42->langgraph) (3.10.12)\n",
      "Requirement already satisfied: requests<3,>=2 in /Users/dougdiego/Developer/github/dougdiego/py-playground/venv/lib/python3.13/site-packages (from langsmith<0.3,>=0.1.125->langchain_core) (2.32.3)\n",
      "Requirement already satisfied: requests-toolbelt<2.0.0,>=1.0.0 in /Users/dougdiego/Developer/github/dougdiego/py-playground/venv/lib/python3.13/site-packages (from langsmith<0.3,>=0.1.125->langchain_core) (1.0.0)\n",
      "Requirement already satisfied: annotated-types>=0.6.0 in /Users/dougdiego/Developer/github/dougdiego/py-playground/venv/lib/python3.13/site-packages (from pydantic<3.0.0,>=2.7.4->langchain_core) (0.7.0)\n",
      "Requirement already satisfied: pydantic-core==2.27.1 in /Users/dougdiego/Developer/github/dougdiego/py-playground/venv/lib/python3.13/site-packages (from pydantic<3.0.0,>=2.7.4->langchain_core) (2.27.1)\n",
      "Requirement already satisfied: idna>=2.8 in /Users/dougdiego/Developer/github/dougdiego/py-playground/venv/lib/python3.13/site-packages (from anyio<5,>=3.5.0->anthropic<1,>=0.45.0->langchain-anthropic) (3.10)\n",
      "Requirement already satisfied: certifi in /Users/dougdiego/Developer/github/dougdiego/py-playground/venv/lib/python3.13/site-packages (from httpx<1,>=0.23.0->anthropic<1,>=0.45.0->langchain-anthropic) (2024.12.14)\n",
      "Requirement already satisfied: httpcore==1.* in /Users/dougdiego/Developer/github/dougdiego/py-playground/venv/lib/python3.13/site-packages (from httpx<1,>=0.23.0->anthropic<1,>=0.45.0->langchain-anthropic) (1.0.7)\n",
      "Requirement already satisfied: h11<0.15,>=0.13 in /Users/dougdiego/Developer/github/dougdiego/py-playground/venv/lib/python3.13/site-packages (from httpcore==1.*->httpx<1,>=0.23.0->anthropic<1,>=0.45.0->langchain-anthropic) (0.14.0)\n",
      "Requirement already satisfied: charset-normalizer<4,>=2 in /Users/dougdiego/Developer/github/dougdiego/py-playground/venv/lib/python3.13/site-packages (from requests<3,>=2->langsmith<0.3,>=0.1.125->langchain_core) (3.4.0)\n",
      "Requirement already satisfied: urllib3<3,>=1.21.1 in /Users/dougdiego/Developer/github/dougdiego/py-playground/venv/lib/python3.13/site-packages (from requests<3,>=2->langsmith<0.3,>=0.1.125->langchain_core) (2.2.3)\n",
      "Downloading langchain_anthropic-0.3.7-py3-none-any.whl (22 kB)\n",
      "Downloading langchain_core-0.3.38-py3-none-any.whl (414 kB)\n",
      "Downloading langgraph-0.2.74-py3-none-any.whl (151 kB)\n",
      "Downloading anthropic-0.46.0-py3-none-any.whl (223 kB)\n",
      "Downloading langgraph_checkpoint-2.0.16-py3-none-any.whl (38 kB)\n",
      "Downloading langgraph_sdk-0.1.53-py3-none-any.whl (45 kB)\n",
      "Downloading msgpack-1.1.0-cp313-cp313-macosx_11_0_arm64.whl (81 kB)\n",
      "Installing collected packages: msgpack, langgraph-sdk, anthropic, langchain_core, langgraph-checkpoint, langchain-anthropic, langgraph\n",
      "  Attempting uninstall: langchain_core\n",
      "    Found existing installation: langchain-core 0.3.25\n",
      "    Uninstalling langchain-core-0.3.25:\n",
      "      Successfully uninstalled langchain-core-0.3.25\n",
      "Successfully installed anthropic-0.46.0 langchain-anthropic-0.3.7 langchain_core-0.3.38 langgraph-0.2.74 langgraph-checkpoint-2.0.16 langgraph-sdk-0.1.53 msgpack-1.1.0\n",
      "\n",
      "\u001b[1m[\u001b[0m\u001b[34;49mnotice\u001b[0m\u001b[1;39;49m]\u001b[0m\u001b[39;49m A new release of pip is available: \u001b[0m\u001b[31;49m24.3.1\u001b[0m\u001b[39;49m -> \u001b[0m\u001b[32;49m25.0.1\u001b[0m\n",
      "\u001b[1m[\u001b[0m\u001b[34;49mnotice\u001b[0m\u001b[1;39;49m]\u001b[0m\u001b[39;49m To update, run: \u001b[0m\u001b[32;49mpip install --upgrade pip\u001b[0m\n"
     ]
    }
   ],
   "source": [
    "! pip install langchain_core langchain-anthropic langgraph "
   ]
  },
  {
   "cell_type": "markdown",
   "metadata": {},
   "source": [
    "## Initialize an LLM"
   ]
  },
  {
   "cell_type": "code",
   "execution_count": null,
   "metadata": {},
   "outputs": [],
   "source": [
    "import os\n",
    "import getpass\n",
    "#from dotenv import load_dotenv\n",
    "from langchain_anthropic import ChatAnthropic\n",
    "\n",
    "#load_dotenv()\n",
    "\n",
    "def _set_env(var: str):\n",
    "    if not os.environ.get(var):\n",
    "        os.environ[var] = getpass.getpass(f\"{var}: \")\n",
    "\n",
    "# Load ANTHROPIC_API_KEY from .env\n",
    "#key = os.getenv(\"ANTHROPIC_API_KEY\")\n",
    "#print(key)\n",
    "\n",
    "_set_env(\"ANTHROPIC_API_KEY\")\n",
    "\n",
    "llm = ChatAnthropic(model=\"claude-3-5-sonnet-latest\")"
   ]
  },
  {
   "cell_type": "markdown",
   "metadata": {},
   "source": [
    "## Augmented LLM\n",
    "![Augmented LLM](images/augmented-llm.png)"
   ]
  },
  {
   "cell_type": "code",
   "execution_count": 6,
   "metadata": {},
   "outputs": [
    {
     "name": "stdout",
     "output_type": "stream",
     "text": [
      "search_query='relationship between calcium CT score coronary calcium and high cholesterol levels' justification='This search will help find scientific evidence linking coronary calcium scores from CT scans to cholesterol levels and cardiovascular risk.'\n",
      "relationship between calcium CT score coronary calcium and high cholesterol levels\n",
      "This search will help find scientific evidence linking coronary calcium scores from CT scans to cholesterol levels and cardiovascular risk.\n"
     ]
    }
   ],
   "source": [
    "# Schema for structured output\n",
    "from pydantic import BaseModel, Field\n",
    "class SearchQuery(BaseModel):\n",
    "    search_query: str = Field(None, description=\"Query that is optimized web search.\")\n",
    "    justification: str = Field(\n",
    "        None, justification=\"Why this query is relevant to the user's request.\"\n",
    "    )\n",
    "\n",
    "# Augment the LLM with schema for structured output\n",
    "structured_llm = llm.with_structured_output(SearchQuery)\n",
    "\n",
    "# Invoke the augmented LLM\n",
    "output = structured_llm.invoke(\"How does Calcium CT score relate to high cholesterol?\")\n",
    "print(output)\n",
    "print(output.search_query)\n",
    "print(output.justification)"
   ]
  },
  {
   "cell_type": "code",
   "execution_count": 7,
   "metadata": {},
   "outputs": [
    {
     "data": {
      "text/plain": [
       "[{'name': 'multiply',\n",
       "  'args': {'a': 2, 'b': 3},\n",
       "  'id': 'toolu_01JadrTooVwrYVDHBpgRKNKz',\n",
       "  'type': 'tool_call'}]"
      ]
     },
     "execution_count": 7,
     "metadata": {},
     "output_type": "execute_result"
    }
   ],
   "source": [
    "# Define a tool\n",
    "def multiply(a: int, b: int) -> int:\n",
    "    return a * b\n",
    "\n",
    "# Augment the LLM with tools\n",
    "llm_with_tools = llm.bind_tools([multiply])\n",
    "\n",
    "# Invoke the LLM with input that triggers the tool call\n",
    "msg = llm_with_tools.invoke(\"What is 2 times 3?\")\n",
    "\n",
    "# Get the tool call\n",
    "msg.tool_calls"
   ]
  },
  {
   "cell_type": "markdown",
   "metadata": {},
   "source": [
    "## Prompt Chaining\n",
    "![Prompt Chaining](images//prompt-chaining.png)\n"
   ]
  },
  {
   "cell_type": "code",
   "execution_count": 9,
   "metadata": {},
   "outputs": [],
   "source": [
    "from typing_extensions import TypedDict\n",
    "\n",
    "# Graph state\n",
    "class State(TypedDict):\n",
    "    topic: str\n",
    "    joke: str\n",
    "    improved_joke: str\n",
    "    final_joke: str"
   ]
  }
 ],
 "metadata": {
  "kernelspec": {
   "display_name": "venv",
   "language": "python",
   "name": "python3"
  },
  "language_info": {
   "codemirror_mode": {
    "name": "ipython",
    "version": 3
   },
   "file_extension": ".py",
   "mimetype": "text/x-python",
   "name": "python",
   "nbconvert_exporter": "python",
   "pygments_lexer": "ipython3",
   "version": "3.13.2"
  }
 },
 "nbformat": 4,
 "nbformat_minor": 2
}
