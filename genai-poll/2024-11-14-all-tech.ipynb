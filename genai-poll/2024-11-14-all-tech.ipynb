{
 "cells": [
  {
   "cell_type": "code",
   "execution_count": 2,
   "id": "d18b9f1e-fbd4-4150-97dc-474d8dc04442",
   "metadata": {},
   "outputs": [
    {
     "ename": "ModuleNotFoundError",
     "evalue": "No module named 'pandas'",
     "output_type": "error",
     "traceback": [
      "\u001b[0;31m---------------------------------------------------------------------------\u001b[0m",
      "\u001b[0;31mModuleNotFoundError\u001b[0m                       Traceback (most recent call last)",
      "Cell \u001b[0;32mIn[2], line 1\u001b[0m\n\u001b[0;32m----> 1\u001b[0m \u001b[38;5;28;01mimport\u001b[39;00m \u001b[38;5;21;01mpandas\u001b[39;00m \u001b[38;5;28;01mas\u001b[39;00m \u001b[38;5;21;01mpd\u001b[39;00m\n\u001b[1;32m      2\u001b[0m \u001b[38;5;28;01mimport\u001b[39;00m \u001b[38;5;21;01mmatplotlib\u001b[39;00m\u001b[38;5;21;01m.\u001b[39;00m\u001b[38;5;21;01mpyplot\u001b[39;00m \u001b[38;5;28;01mas\u001b[39;00m \u001b[38;5;21;01mplt\u001b[39;00m\n\u001b[1;32m      3\u001b[0m \u001b[38;5;28;01mimport\u001b[39;00m \u001b[38;5;21;01mseaborn\u001b[39;00m \u001b[38;5;28;01mas\u001b[39;00m \u001b[38;5;21;01msns\u001b[39;00m\n",
      "\u001b[0;31mModuleNotFoundError\u001b[0m: No module named 'pandas'"
     ]
    }
   ],
   "source": [
    "import pandas as pd\n",
    "import matplotlib.pyplot as plt\n",
    "import seaborn as sns\n",
    "import os\n",
    "from glob import glob\n",
    "\n",
    "# Set style and figure size for better visualization\n",
    "plt.style.use('seaborn')\n",
    "plt.rcParams['figure.figsize'] = [15, 8]\n",
    "\n",
    "# Read all Excel files from the polls directory\n",
    "poll_files = sorted([f for f in glob('polls/*.xlsx') if not os.path.basename(f).startswith('~')])\n",
    "\n",
    "# Create a dictionary to store DataFrames\n",
    "dfs = {}\n",
    "\n",
    "# Read each file\n",
    "for file in poll_files:\n",
    "    quarter = os.path.basename(file).split('.')[0]  # Get quarter from filename\n",
    "    dfs[quarter] = pd.read_excel(file, engine='openpyxl')\n",
    "\n",
    "# Function to create comparison bar charts\n",
    "def create_comparison_chart(question, dfs, title):\n",
    "    plt.figure(figsize=(15, 8))\n",
    "    \n",
    "    # Get value counts for each quarter\n",
    "    data_by_quarter = {}\n",
    "    for quarter, df in dfs.items():\n",
    "        counts = df[question].str.split(',').explode().str.strip().value_counts()\n",
    "        data_by_quarter[quarter] = counts\n",
    "    \n",
    "    # Combine all unique values\n",
    "    all_values = set()\n",
    "    for counts in data_by_quarter.values():\n",
    "        all_values.update(counts.index)\n",
    "    \n",
    "    # Create positions for bars\n",
    "    bar_width = 0.35\n",
    "    quarters = list(dfs.keys())\n",
    "    \n",
    "    # Create bars for each quarter\n",
    "    for i, (quarter, counts) in enumerate(data_by_quarter.items()):\n",
    "        positions = range(len(all_values))\n",
    "        values = [counts.get(val, 0) for val in all_values]\n",
    "        plt.bar([p + i*bar_width for p in positions], values, bar_width, label=quarter)\n",
    "    \n",
    "    plt.title(title)\n",
    "    plt.xlabel('Response')\n",
    "    plt.ylabel('Count')\n",
    "    plt.xticks([p + bar_width/2 for p in range(len(all_values))], all_values, rotation=45, ha='right')\n",
    "    plt.legend()\n",
    "    plt.tight_layout()\n",
    "    plt.show()\n",
    "\n",
    "# Questions to analyze\n",
    "questions = [\n",
    "    'How much time are you saving per week using GenAI tools? (Select One)',\n",
    "    'What is your primary code assistant tool? (Select One)',\n",
    "    'I am using the following GenAI Tools (Select all that apply)',\n",
    "    'What challenges are you facing when using GenAI tools? (Select all that apply)',\n",
    "    'What improvements or features would you like to see in GenAI tools? (Select all that apply)'\n",
    "]\n",
    "\n",
    "# Create charts for each question\n",
    "for question in questions:\n",
    "    create_comparison_chart(question, dfs, question)"
   ]
  },
  {
   "cell_type": "code",
   "execution_count": null,
   "id": "73711844-7f9b-4e28-b3cc-5e72f3ebf3e4",
   "metadata": {},
   "outputs": [],
   "source": []
  }
 ],
 "metadata": {
  "kernelspec": {
   "display_name": "venv",
   "language": "python",
   "name": "python3"
  },
  "language_info": {
   "codemirror_mode": {
    "name": "ipython",
    "version": 3
   },
   "file_extension": ".py",
   "mimetype": "text/x-python",
   "name": "python",
   "nbconvert_exporter": "python",
   "pygments_lexer": "ipython3",
   "version": "3.12.3"
  }
 },
 "nbformat": 4,
 "nbformat_minor": 5
}
